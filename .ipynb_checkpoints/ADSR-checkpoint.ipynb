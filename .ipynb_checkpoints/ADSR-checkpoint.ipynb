{
 "cells": [
  {
   "cell_type": "markdown",
   "id": "64a38158",
   "metadata": {},
   "source": [
    "# ADSR - Attack, Delay, Sustain, Release"
   ]
  },
  {
   "cell_type": "code",
   "execution_count": 1,
   "id": "ee8afeb7",
   "metadata": {},
   "outputs": [],
   "source": [
    "import numpy as np\n",
    "import matplotlib.pyplot as plt"
   ]
  },
  {
   "cell_type": "markdown",
   "id": "55a27f70",
   "metadata": {},
   "source": [
    "# Importing Everything from Pervious Notebook"
   ]
  },
  {
   "cell_type": "code",
   "execution_count": 11,
   "id": "206f4256",
   "metadata": {},
   "outputs": [],
   "source": [
    "import numpy as np\n",
    "\n",
    "def get_frequency(n, base_freq = 440):\n",
    "    return 2 ** (((n+1) - 49) / 12 ) * base_freq\n",
    "\n",
    "def get_key_frequency_mapping(base_freq = 440):\n",
    "    notes = ['C', 'C#', 'D', 'D#', 'E', 'F', 'F#', 'G', 'G#', 'A', 'A#', 'B']\n",
    "    keys_with_octaves = np.array([n + str(i) for i in range(8+1) for n in notes]) # 8 + 1 such that we have 8 indexes\n",
    "    start_note = np.where(keys_with_octaves == 'A0')[0][0]\n",
    "    end_note = np.where(keys_with_octaves == 'C8')[0][0]    \n",
    "    \n",
    "    keys = keys_with_octaves[start_note:end_note + 1] # 88 Keys\n",
    "    \n",
    "    note_dict = dict(zip(keys, [get_frequency(n, base_freq = base_freq) for n in range(len(keys))]))\n",
    "    note_dict[''] = 0 # No Note\n",
    "    return note_dict\n",
    "\n",
    "\n",
    "def sine_note(freq, duration, sample_rate = 44100, A = 4096):\n",
    "    t = np.linspace(0, duration, int(sample_rate * duration)) # Time Axis\n",
    "    note = A * np.sin(2 * np.pi * freq * t)\n",
    "    return note\n",
    "\n",
    "\n",
    "keys = get_key_frequency_mapping()\n",
    "def note_out(key, duration=1, amplitude = 3064):\n",
    "    if key not in keys.keys():\n",
    "        print(f\"{key} is not a valid key. Please enter one the following {keys.keys()}\")\n",
    "        return\n",
    "    else:\n",
    "        freq = keys[key]\n",
    "        return sine_note(freq, duration = duration, A = amplitude)\n",
    "\n",
    "\n",
    "\n",
    "# import IPython.display as ipd  # Use this to play Waves on Jupyter Notebook\n",
    "\n",
    "# # C note\n",
    "\n",
    "# ipd.Audio(note_out('C4'), rate=44100, autoplay=True)\n",
    "\n",
    "\n",
    "def overtone(freq, duration, factor, sample_rate = 44100, amplitude = 4096):\n",
    "    frequencies = np.array([freq*(x+1) for x in range(len(factor))])\n",
    "    amplitudes = np.array([amplitude*x for x in factor])\n",
    "    \n",
    "    fundamental = sine_note(frequencies[0], duration, sample_rate, amplitudes[0])\n",
    "    for i in range(1, len(factor)):\n",
    "        overtone = sine_note(frequencies[i], duration, sample_rate, amplitudes[i])\n",
    "        fundamental += overtone\n",
    "    return fundamental"
   ]
  },
  {
   "cell_type": "code",
   "execution_count": 2,
   "id": "5d858d25",
   "metadata": {},
   "outputs": [
    {
     "data": {
      "text/plain": [
       "[<matplotlib.lines.Line2D at 0x23fd7ec7670>]"
      ]
     },
     "execution_count": 2,
     "metadata": {},
     "output_type": "execute_result"
    },
    {
     "data": {
      "image/png": "[encoded data removed]",
      "text/plain": [
       "<Figure size 432x288 with 1 Axes>"
      ]
     },
     "metadata": {
      "needs_background": "light"
     },
     "output_type": "display_data"
    }
   ],
   "source": [
    "interval = int(2* 440)\n",
    "\n",
    "len_A = np.maximum(int(interval * 0.05), 1)\n",
    "decay_A = 0.075\n",
    "\n",
    "A = 1/np.array([(1-decay_A)**n for n in range(len_A)])\n",
    "A /= np.nanmax(A)\n",
    "plt.plot(A)"
   ]
  },
  {
   "cell_type": "code",
   "execution_count": 3,
   "id": "4fc6d3f4",
   "metadata": {},
   "outputs": [
    {
     "data": {
      "text/plain": [
       "array([0.03500213, 0.03784014, 0.04090826, 0.04422515, 0.04781097,\n",
       "       0.05168754, 0.05587842, 0.0604091 , 0.06530714, 0.07060231,\n",
       "       0.07632682, 0.08251548, 0.08920593, 0.09643884, 0.10425821,\n",
       "       0.11271157, 0.12185035, 0.13173011, 0.14241093, 0.15395776,\n",
       "       0.16644082, 0.17993602, 0.19452543, 0.21029776, 0.22734893,\n",
       "       0.24578263, 0.26571095, 0.28725508, 0.31054604, 0.33572545,\n",
       "       0.36294643, 0.39237452, 0.42418867, 0.45858234, 0.49576469,\n",
       "       0.53596183, 0.5794182 , 0.62639805, 0.67718708, 0.73209414,\n",
       "       0.79145313, 0.855625  , 0.925     , 1.        ])"
      ]
     },
     "execution_count": 3,
     "metadata": {},
     "output_type": "execute_result"
    }
   ],
   "source": [
    "A"
   ]
  },
  {
   "cell_type": "code",
   "execution_count": 4,
   "id": "acafde61",
   "metadata": {},
   "outputs": [
    {
     "data": {
      "text/plain": [
       "[<matplotlib.lines.Line2D at 0x23ff2f26f70>]"
      ]
     },
     "execution_count": 4,
     "metadata": {},
     "output_type": "execute_result"
    },
    {
     "data": {
      "image/png": "[encoded data removed]",
      "text/plain": [
       "<Figure size 432x288 with 1 Axes>"
      ]
     },
     "metadata": {
      "needs_background": "light"
     },
     "output_type": "display_data"
    }
   ],
   "source": [
    "interval = int(2* 440)\n",
    "sustain_level = 0.1\n",
    "len_D = np.maximum(int(interval * 0.25), 1)\n",
    "decay_D = 0.02\n",
    "\n",
    "D = np.array([(1-decay_D)**n for n in range(len_D)])\n",
    "D = D*(1-sustain_level)+sustain_level\n",
    "plt.plot(D)"
   ]
  },
  {
   "cell_type": "code",
   "execution_count": 5,
   "id": "e0924b6f",
   "metadata": {},
   "outputs": [
    {
     "data": {
      "text/plain": [
       "array([1.        , 0.982     , 0.96436   , 0.9470728 , 0.93013134,\n",
       "       0.91352872, 0.89725814, 0.88131298, 0.86568672, 0.85037299,\n",
       "       0.83536553, 0.82065822, 0.80624505, 0.79212015, 0.77827775,\n",
       "       0.76471219, 0.75141795, 0.73838959, 0.7256218 , 0.71310936,\n",
       "       0.70084717, 0.68883023, 0.67705363, 0.66551255, 0.6542023 ,\n",
       "       0.64311826, 0.63225589, 0.62161077, 0.61117856, 0.60095499,\n",
       "       0.59093589, 0.58111717, 0.57149483, 0.56206493, 0.55282363,\n",
       "       0.54376716, 0.53489182, 0.52619398, 0.5176701 , 0.5093167 ,\n",
       "       0.50113036, 0.49310776, 0.4852456 , 0.47754069, 0.46998988,\n",
       "       0.46259008, 0.45533828, 0.44823151, 0.44126688, 0.43444154,\n",
       "       0.42775271, 0.42119766, 0.4147737 , 0.40847823, 0.40230867,\n",
       "       0.39626249, 0.39033724, 0.3845305 , 0.37883989, 0.37326309,\n",
       "       0.36779783, 0.36244187, 0.35719303, 0.35204917, 0.34700819,\n",
       "       0.34206803, 0.33722667, 0.33248213, 0.32783249, 0.32327584,\n",
       "       0.31881032, 0.31443412, 0.31014543, 0.30594253, 0.30182368,\n",
       "       0.2977872 , 0.29383146, 0.28995483, 0.28615573, 0.28243262,\n",
       "       0.27878397, 0.27520829, 0.27170412, 0.26827004, 0.26490464,\n",
       "       0.26160654, 0.25837441, 0.25520693, 0.25210279, 0.24906073,\n",
       "       0.24607952, 0.24315793, 0.24029477, 0.23748887, 0.23473909,\n",
       "       0.23204431, 0.22940343, 0.22681536, 0.22427905, 0.22179347,\n",
       "       0.2193576 , 0.21697045, 0.21463104, 0.21233842, 0.21009165,\n",
       "       0.20788982, 0.20573202, 0.20361738, 0.20154503, 0.19951413,\n",
       "       0.19752385, 0.19557337, 0.19366191, 0.19178867, 0.18995289,\n",
       "       0.18815384, 0.18639076, 0.18466294, 0.18296968, 0.18131029,\n",
       "       0.17968409, 0.1780904 , 0.1765286 , 0.17499802, 0.17349806,\n",
       "       0.1720281 , 0.17058754, 0.16917579, 0.16779227, 0.16643643,\n",
       "       0.1651077 , 0.16380555, 0.16252943, 0.16127885, 0.16005327,\n",
       "       0.1588522 , 0.15767516, 0.15652166, 0.15539122, 0.1542834 ,\n",
       "       0.15319773, 0.15213378, 0.1510911 , 0.15006928, 0.14906789,\n",
       "       0.14808654, 0.1471248 , 0.14618231, 0.14525866, 0.14435349,\n",
       "       0.14346642, 0.14259709, 0.14174515, 0.14091025, 0.14009204,\n",
       "       0.1392902 , 0.1385044 , 0.13773431, 0.13697962, 0.13624003,\n",
       "       0.13551523, 0.13480492, 0.13410883, 0.13342665, 0.13275812,\n",
       "       0.13210295, 0.1314609 , 0.13083168, 0.13021504, 0.12961074,\n",
       "       0.12901853, 0.12843816, 0.12786939, 0.12731201, 0.12676577,\n",
       "       0.12623045, 0.12570584, 0.12519173, 0.12468789, 0.12419413,\n",
       "       0.12371025, 0.12323605, 0.12277132, 0.1223159 , 0.12186958,\n",
       "       0.12143219, 0.12100354, 0.12058347, 0.1201718 , 0.11976837,\n",
       "       0.119373  , 0.11898554, 0.11860583, 0.11823371, 0.11786904,\n",
       "       0.11751166, 0.11716142, 0.1168182 , 0.11648183, 0.1161522 ,\n",
       "       0.11582915, 0.11551257, 0.11520232, 0.11489827, 0.11460031,\n",
       "       0.1143083 , 0.11402213, 0.11374169, 0.11346686, 0.11319752,\n",
       "       0.11293357, 0.1126749 , 0.1124214 , 0.11217297, 0.11192951,\n",
       "       0.11169092, 0.1114571 , 0.11122796, 0.1110034 , 0.11078333])"
      ]
     },
     "execution_count": 5,
     "metadata": {},
     "output_type": "execute_result"
    }
   ],
   "source": [
    "D"
   ]
  },
  {
   "cell_type": "code",
   "execution_count": 6,
   "id": "a0905958",
   "metadata": {},
   "outputs": [
    {
     "data": {
      "text/plain": [
       "[<matplotlib.lines.Line2D at 0x23ff2f8f040>]"
      ]
     },
     "execution_count": 6,
     "metadata": {},
     "output_type": "execute_result"
    },
    {
     "data": {
      "image/png": "[encoded data removed]",
      "text/plain": [
       "<Figure size 432x288 with 1 Axes>"
      ]
     },
     "metadata": {
      "needs_background": "light"
     },
     "output_type": "display_data"
    }
   ],
   "source": [
    "len_S = np.maximum(int(interval * 0.55), 1)\n",
    "decay_S = 0.005\n",
    "sustain_level = 0.9\n",
    "\n",
    "S = np.array([(1-decay_S)**n for n in range(len_S)])\n",
    "S = S*sustain_level\n",
    "plt.plot(S)"
   ]
  },
  {
   "cell_type": "code",
   "execution_count": 7,
   "id": "88699580",
   "metadata": {},
   "outputs": [
    {
     "data": {
      "text/plain": [
       "array([0.9       , 0.8955    , 0.8910225 , 0.88656739, 0.88213455,\n",
       "       0.87772388, 0.87333526, 0.86896858, 0.86462374, 0.86030062,\n",
       "       0.85599912, 0.85171912, 0.84746053, 0.84322322, 0.83900711,\n",
       "       0.83481207, 0.83063801, 0.82648482, 0.8223524 , 0.81824064,\n",
       "       0.81414943, 0.81007869, 0.80602829, 0.80199815, 0.79798816,\n",
       "       0.79399822, 0.79002823, 0.78607809, 0.7821477 , 0.77823696,\n",
       "       0.77434577, 0.77047404, 0.76662167, 0.76278857, 0.75897462,\n",
       "       0.75517975, 0.75140385, 0.74764683, 0.7439086 , 0.74018905,\n",
       "       0.73648811, 0.73280567, 0.72914164, 0.72549593, 0.72186845,\n",
       "       0.71825911, 0.71466781, 0.71109448, 0.707539  , 0.70400131,\n",
       "       0.7004813 , 0.69697889, 0.693494  , 0.69002653, 0.6865764 ,\n",
       "       0.68314352, 0.6797278 , 0.67632916, 0.67294751, 0.66958278,\n",
       "       0.66623486, 0.66290369, 0.65958917, 0.65629122, 0.65300977,\n",
       "       0.64974472, 0.64649599, 0.64326351, 0.6400472 , 0.63684696,\n",
       "       0.63366273, 0.63049441, 0.62734194, 0.62420523, 0.6210842 ,\n",
       "       0.61797878, 0.61488889, 0.61181445, 0.60875537, 0.6057116 ,\n",
       "       0.60268304, 0.59966962, 0.59667128, 0.59368792, 0.59071948,\n",
       "       0.58776588, 0.58482705, 0.58190292, 0.5789934 , 0.57609844,\n",
       "       0.57321794, 0.57035185, 0.56750009, 0.56466259, 0.56183928,\n",
       "       0.55903008, 0.55623493, 0.55345376, 0.55068649, 0.54793306,\n",
       "       0.54519339, 0.54246743, 0.53975509, 0.53705631, 0.53437103,\n",
       "       0.53169918, 0.52904068, 0.52639548, 0.5237635 , 0.52114468,\n",
       "       0.51853896, 0.51594626, 0.51336653, 0.5107997 , 0.5082457 ,\n",
       "       0.50570447, 0.50317595, 0.50066007, 0.49815677, 0.49566599,\n",
       "       0.49318766, 0.49072172, 0.48826811, 0.48582677, 0.48339764,\n",
       "       0.48098065, 0.47857574, 0.47618287, 0.47380195, 0.47143294,\n",
       "       0.46907578, 0.4667304 , 0.46439675, 0.46207476, 0.45976439,\n",
       "       0.45746557, 0.45517824, 0.45290235, 0.45063784, 0.44838465,\n",
       "       0.44614272, 0.44391201, 0.44169245, 0.43948399, 0.43728657,\n",
       "       0.43510013, 0.43292463, 0.43076001, 0.42860621, 0.42646318,\n",
       "       0.42433086, 0.42220921, 0.42009816, 0.41799767, 0.41590768,\n",
       "       0.41382815, 0.411759  , 0.40970021, 0.40765171, 0.40561345,\n",
       "       0.40358538, 0.40156746, 0.39955962, 0.39756182, 0.39557401,\n",
       "       0.39359614, 0.39162816, 0.38967002, 0.38772167, 0.38578306,\n",
       "       0.38385415, 0.38193488, 0.3800252 , 0.37812508, 0.37623445,\n",
       "       0.37435328, 0.37248151, 0.3706191 , 0.36876601, 0.36692218,\n",
       "       0.36508757, 0.36326213, 0.36144582, 0.35963859, 0.3578404 ,\n",
       "       0.35605119, 0.35427094, 0.35249958, 0.35073709, 0.3489834 ,\n",
       "       0.34723848, 0.34550229, 0.34377478, 0.34205591, 0.34034563,\n",
       "       0.3386439 , 0.33695068, 0.33526593, 0.3335896 , 0.33192165,\n",
       "       0.33026204, 0.32861073, 0.32696768, 0.32533284, 0.32370617,\n",
       "       0.32208764, 0.3204772 , 0.31887482, 0.31728044, 0.31569404,\n",
       "       0.31411557, 0.31254499, 0.31098227, 0.30942736, 0.30788022,\n",
       "       0.30634082, 0.30480912, 0.30328507, 0.30176864, 0.3002598 ,\n",
       "       0.2987585 , 0.29726471, 0.29577839, 0.29429949, 0.292828  ,\n",
       "       0.29136386, 0.28990704, 0.2884575 , 0.28701521, 0.28558014,\n",
       "       0.28415224, 0.28273148, 0.28131782, 0.27991123, 0.27851167,\n",
       "       0.27711912, 0.27573352, 0.27435485, 0.27298308, 0.27161816,\n",
       "       0.27026007, 0.26890877, 0.26756423, 0.26622641, 0.26489527,\n",
       "       0.2635708 , 0.26225294, 0.26094168, 0.25963697, 0.25833879,\n",
       "       0.25704709, 0.25576186, 0.25448305, 0.25321063, 0.25194458,\n",
       "       0.25068486, 0.24943143, 0.24818428, 0.24694335, 0.24570864,\n",
       "       0.24448009, 0.24325769, 0.2420414 , 0.2408312 , 0.23962704,\n",
       "       0.23842891, 0.23723676, 0.23605058, 0.23487033, 0.23369597,\n",
       "       0.23252749, 0.23136486, 0.23020803, 0.22905699, 0.22791171,\n",
       "       0.22677215, 0.22563829, 0.2245101 , 0.22338755, 0.22227061,\n",
       "       0.22115925, 0.22005346, 0.21895319, 0.21785843, 0.21676913,\n",
       "       0.21568529, 0.21460686, 0.21353383, 0.21246616, 0.21140383,\n",
       "       0.21034681, 0.20929507, 0.2082486 , 0.20720736, 0.20617132,\n",
       "       0.20514046, 0.20411476, 0.20309419, 0.20207872, 0.20106832,\n",
       "       0.20006298, 0.19906266, 0.19806735, 0.19707701, 0.19609163,\n",
       "       0.19511117, 0.19413562, 0.19316494, 0.19219911, 0.19123812,\n",
       "       0.19028193, 0.18933052, 0.18838386, 0.18744195, 0.18650474,\n",
       "       0.18557221, 0.18464435, 0.18372113, 0.18280252, 0.18188851,\n",
       "       0.18097907, 0.18007417, 0.1791738 , 0.17827793, 0.17738654,\n",
       "       0.17649961, 0.17561711, 0.17473903, 0.17386533, 0.17299601,\n",
       "       0.17213103, 0.17127037, 0.17041402, 0.16956195, 0.16871414,\n",
       "       0.16787057, 0.16703121, 0.16619606, 0.16536508, 0.16453825,\n",
       "       0.16371556, 0.16289698, 0.1620825 , 0.16127209, 0.16046573,\n",
       "       0.1596634 , 0.15886508, 0.15807076, 0.1572804 , 0.156494  ,\n",
       "       0.15571153, 0.15493297, 0.15415831, 0.15338752, 0.15262058,\n",
       "       0.15185747, 0.15109819, 0.1503427 , 0.14959098, 0.14884303,\n",
       "       0.14809881, 0.14735832, 0.14662153, 0.14588842, 0.14515898,\n",
       "       0.14443318, 0.14371102, 0.14299246, 0.1422775 , 0.14156611,\n",
       "       0.14085828, 0.14015399, 0.13945322, 0.13875595, 0.13806217,\n",
       "       0.13737186, 0.136685  , 0.13600158, 0.13532157, 0.13464496,\n",
       "       0.13397174, 0.13330188, 0.13263537, 0.13197219, 0.13131233,\n",
       "       0.13065577, 0.13000249, 0.12935248, 0.12870572, 0.12806219,\n",
       "       0.12742188, 0.12678477, 0.12615084, 0.12552009, 0.12489249,\n",
       "       0.12426803, 0.12364669, 0.12302845, 0.12241331, 0.12180124,\n",
       "       0.12119224, 0.12058628, 0.11998335, 0.11938343, 0.11878651,\n",
       "       0.11819258, 0.11760162, 0.11701361, 0.11642854, 0.1158464 ,\n",
       "       0.11526717, 0.11469083, 0.11411738, 0.11354679, 0.11297906,\n",
       "       0.11241416, 0.11185209, 0.11129283, 0.11073636, 0.11018268,\n",
       "       0.10963177, 0.10908361, 0.10853819, 0.1079955 , 0.10745552,\n",
       "       0.10691825, 0.10638365, 0.10585174, 0.10532248, 0.10479587,\n",
       "       0.10427189, 0.10375053, 0.10323177, 0.10271562, 0.10220204,\n",
       "       0.10169103, 0.10118257, 0.10067666, 0.10017328, 0.09967241,\n",
       "       0.09917405, 0.09867818, 0.09818479, 0.09769386, 0.09720539,\n",
       "       0.09671937, 0.09623577, 0.09575459, 0.09527582, 0.09479944,\n",
       "       0.09432544, 0.09385381, 0.09338454, 0.09291762, 0.09245303,\n",
       "       0.09199077, 0.09153082, 0.09107316, 0.0906178 , 0.09016471,\n",
       "       0.08971388, 0.08926531, 0.08881899, 0.08837489, 0.08793302,\n",
       "       0.08749335, 0.08705589, 0.08662061, 0.0861875 , 0.08575657,\n",
       "       0.08532778, 0.08490114, 0.08447664, 0.08405425, 0.08363398,\n",
       "       0.08321581, 0.08279973, 0.08238574, 0.08197381, 0.08156394,\n",
       "       0.08115612, 0.08075034, 0.08034659, 0.07994485])"
      ]
     },
     "execution_count": 7,
     "metadata": {},
     "output_type": "execute_result"
    }
   ],
   "source": [
    "S"
   ]
  },
  {
   "cell_type": "code",
   "execution_count": 9,
   "id": "be990fd4",
   "metadata": {},
   "outputs": [
    {
     "data": {
      "text/plain": [
       "[<matplotlib.lines.Line2D at 0x23ff302c940>]"
      ]
     },
     "execution_count": 9,
     "metadata": {},
     "output_type": "execute_result"
    },
    {
     "data": {
      "image/png": "[encoded data removed]",
      "text/plain": [
       "<Figure size 432x288 with 1 Axes>"
      ]
     },
     "metadata": {
      "needs_background": "light"
     },
     "output_type": "display_data"
    }
   ],
   "source": [
    "smoothing = np.array([0.1*(1-0.1)**n for n in range(5)])\n",
    "smoothing = smoothing/np.nansum(smoothing)\n",
    "plt.plot(smoothing)"
   ]
  },
  {
   "cell_type": "code",
   "execution_count": 10,
   "id": "0d5d4bc0",
   "metadata": {},
   "outputs": [],
   "source": [
    "def adsr_weights(freq, duration, length, decay, sustain_level, sample_rate = 44100):\n",
    "    interval = int(duration * freq)\n",
    "    len_A = np.maximum(int(intervals*length[0]),1)\n",
    "    len_D = np.maximum(int(intervals*length[1]),1)\n",
    "    len_S = np.maximum(int(intervals*length[2]),1)\n",
    "    len_R = np.maximum(int(intervals*length[3]),1)\n",
    "    \n",
    "    decay_A = decay[0]\n",
    "    decay_D = decay[1]\n",
    "    decay_S = decay[2]\n",
    "    decay_R = decay[3]\n",
    "    \n",
    "    A = 1/np.array([(1-decay_A)**n for n in range(len_A)])\n",
    "    A = A/np.nanmax(A)\n",
    "    D = np.array([(1-decay_D)**n for n in range(len_D)])\n",
    "    D = D*(1-sustain_level)+sustain_level\n",
    "    S = np.array([(1-decay_S)**n for n in range(len_S)])\n",
    "    S = S*sustain_level\n",
    "    R = np.array([(1-decay_R)**n for n in range(len_R)])\n",
    "    R = R*S[-1]\n",
    "    \n",
    "    weights = np.concatenate((A,D,S,R))\n",
    "    smoothing = np.array([0.1*(1-0.1)**n for n in range(5)])\n",
    "    smoothing = smoothing/np.nansum(smoothing)\n",
    "    weights = np.convolve(weights, smoothing, mode='same')\n",
    "    \n",
    "    weights = np.repeat(weights, int(sample_rate*duration/intervals))\n",
    "    tail = int(sample_rate*duration-weights.shape[0])\n",
    "    if tail > 0:\n",
    "        weights = np.concatenate((weights, weights[-1]-weights[-1]/tail*np.arange(tail)))\n",
    "    return weights"
   ]
  },
  {
   "cell_type": "code",
   "execution_count": null,
   "id": "1ef3d260",
   "metadata": {},
   "outputs": [],
   "source": []
  }
 ],
 "metadata": {
  "kernelspec": {
   "display_name": "Python 3 (ipykernel)",
   "language": "python",
   "name": "python3"
  },
  "language_info": {
   "codemirror_mode": {
    "name": "ipython",
    "version": 3
   },
   "file_extension": ".py",
   "mimetype": "text/x-python",
   "name": "python",
   "nbconvert_exporter": "python",
   "pygments_lexer": "ipython3",
   "version": "3.8.0"
  }
 },
 "nbformat": 4,
 "nbformat_minor": 5
}
